{
 "cells": [
  {
   "cell_type": "code",
   "execution_count": 1,
   "id": "ee2b31a1-703d-48e5-81d9-28064cbfc5bb",
   "metadata": {
    "execution": {
     "iopub.execute_input": "2025-05-17T14:35:49.347820Z",
     "iopub.status.busy": "2025-05-17T14:35:49.347820Z",
     "iopub.status.idle": "2025-05-17T14:37:15.279791Z",
     "shell.execute_reply": "2025-05-17T14:37:15.275988Z",
     "shell.execute_reply.started": "2025-05-17T14:35:49.347820Z"
    }
   },
   "outputs": [
    {
     "name": "stdout",
     "output_type": "stream",
     "text": [
      "🔎 Scraping page 1\n",
      "🔎 Scraping page 2\n",
      "🔎 Scraping page 3\n",
      "🔎 Scraping page 4\n"
     ]
    },
    {
     "ename": "NameError",
     "evalue": "name 'data' is not defined",
     "output_type": "error",
     "traceback": [
      "\u001b[1;31m---------------------------------------------------------------------------\u001b[0m",
      "\u001b[1;31mNameError\u001b[0m                                 Traceback (most recent call last)",
      "Cell \u001b[1;32mIn[1], line 80\u001b[0m\n\u001b[0;32m     77\u001b[0m \u001b[38;5;66;03m# Close browser\u001b[39;00m\n\u001b[0;32m     78\u001b[0m driver\u001b[38;5;241m.\u001b[39mquit()\n\u001b[1;32m---> 80\u001b[0m df \u001b[38;5;241m=\u001b[39m pd\u001b[38;5;241m.\u001b[39mDataFrame(data)\n\u001b[0;32m     81\u001b[0m \u001b[38;5;28mprint\u001b[39m(df)\n\u001b[0;32m     82\u001b[0m df\u001b[38;5;241m.\u001b[39mto_csv(\u001b[38;5;124m\"\u001b[39m\u001b[38;5;124mAmazon_products.csv\u001b[39m\u001b[38;5;124m\"\u001b[39m, index\u001b[38;5;241m=\u001b[39m\u001b[38;5;28;01mFalse\u001b[39;00m)\n",
      "\u001b[1;31mNameError\u001b[0m: name 'data' is not defined"
     ]
    }
   ],
   "source": [
    "from selenium import webdriver\n",
    "from selenium.webdriver.chrome.service import Service\n",
    "from selenium.webdriver.common.by import By\n",
    "from selenium.webdriver.chrome.options import Options\n",
    "from webdriver_manager.chrome import ChromeDriverManager\n",
    "import csv\n",
    "import time\n",
    "from urllib.parse import urljoin\n",
    "import pandas as pd \n",
    "# Setup headless Chrome\n",
    "options = Options()\n",
    "options.add_argument('--headless')\n",
    "options.add_argument('--no-sandbox')\n",
    "options.add_argument('--disable-dev-shm-usage')\n",
    "driver = webdriver.Chrome(service=Service(ChromeDriverManager().install()), options=options)\n",
    "\n",
    "# Start URL\n",
    "#base_url = \"https://www.amazon.sa/-/en/\"\n",
    "#start_url = \"https://www.amazon.sa/s?i=electronics&rh=n%3A16966419031&s=popularity-rank&fs=true&language=en&ref=lp_16966419031_sar\"\n",
    "\n",
    "#driver.get(start_url)\n",
    "#time.sleep(10)\n",
    "\n",
    "products_data = []\n",
    "page = 1\n",
    "\n",
    "while page<5:\n",
    "    print(f\"🔎 Scraping page {page}\")\n",
    "\n",
    "    time.sleep(5)\n",
    "\n",
    "    #items = driver.find_elements(By.CSS_SELECTOR, \"div.s-main-slot div.s-result-item\")\n",
    "\n",
    "    for item in items:\n",
    "        try:\n",
    "          #  title = item.find_element(By.CSS_SELECTOR, \"h2 span\").text\n",
    "        except:\n",
    "            title = None\n",
    "\n",
    "        try:\n",
    "            price_whole = item.find_element(By.CSS_SELECTOR, \".a-price .a-price-whole\").text\n",
    "            price_fraction = item.find_element(By.CSS_SELECTOR, \".a-price .a-price-fraction\").text\n",
    "            price = f\"{price_whole}.{price_fraction}\"\n",
    "        except:\n",
    "            price = None\n",
    "\n",
    "        try:\n",
    "            rating = item.find_element(By.CSS_SELECTOR, \".a-icon-alt\").text\n",
    "        except:\n",
    "            rating = None\n",
    "\n",
    "        if title:\n",
    "            products_data.append({\n",
    "                \"Title\": title,\n",
    "                \"Price (EGP)\": price,\n",
    "                \"Rating\": rating\n",
    "            })\n",
    "\n",
    "    # Try to find the \"Next\" page link\n",
    "    try:\n",
    "        time.sleep(5)\n",
    "        next_button = driver.find_element(By.CSS_SELECTOR, \"a.s-pagination-next\")\n",
    "        if \"s-pagination-disabled\" in next_button.get_attribute(\"class\"):\n",
    "            print(\"✅ No more pages.\")\n",
    "            break\n",
    "\n",
    "        next_page_relative_url = next_button.get_attribute(\"href\")\n",
    "        next_page_url = urljoin(base_url, next_page_relative_url)\n",
    "\n",
    "        driver.get(next_page_url)\n",
    "        page += 1\n",
    "\n",
    "    except:\n",
    "        print(\"✅ Reached end of pagination or next button not found.\")\n",
    "        break\n",
    "\n",
    "# Close browser\n",
    "driver.quit()\n",
    "\n",
    "df = pd.DataFrame(data)\n",
    "print(df)\n",
    "df.to_csv(\"Amazon_products.csv\", index=False)\n",
    "\n",
    "print(\"✅ Done! Data saved to amazon_scraped_data.csv\")\n"
   ]
  },
  {
   "cell_type": "code",
   "execution_count": null,
   "id": "db14a838-0d2a-4ed3-bc3f-195ee193dbe7",
   "metadata": {},
   "outputs": [],
   "source": []
  }
 ],
 "metadata": {
  "kernelspec": {
   "display_name": "Python 3 (ipykernel)",
   "language": "python",
   "name": "python3"
  },
  "language_info": {
   "codemirror_mode": {
    "name": "ipython",
    "version": 3
   },
   "file_extension": ".py",
   "mimetype": "text/x-python",
   "name": "python",
   "nbconvert_exporter": "python",
   "pygments_lexer": "ipython3",
   "version": "3.12.7"
  }
 },
 "nbformat": 4,
 "nbformat_minor": 5
}
